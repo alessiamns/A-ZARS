{
 "cells": [
  {
   "cell_type": "code",
   "execution_count": 2,
   "metadata": {},
   "outputs": [],
   "source": [
    "import pandas as pd\n",
    "import numpy as np\n",
    "import sys\n",
    "import codecs\n",
    "from googletrans import Translator"
   ]
  },
  {
   "cell_type": "code",
   "execution_count": 3,
   "metadata": {},
   "outputs": [],
   "source": [
    "translator = Translator()"
   ]
  },
  {
   "cell_type": "code",
   "execution_count": 93,
   "metadata": {},
   "outputs": [],
   "source": [
    "df_reviews = pd.read_json (\"data/tokenize_reviews/tok_rev_hr.json\")"
   ]
  },
  {
   "cell_type": "code",
   "execution_count": 94,
   "metadata": {},
   "outputs": [
    {
     "data": {
      "text/plain": [
       "index       1\n",
       "lang        1\n",
       "review      1\n",
       "tokenize    1\n",
       "match       1\n",
       "dtype: int64"
      ]
     },
     "execution_count": 94,
     "metadata": {},
     "output_type": "execute_result"
    }
   ],
   "source": [
    "df_reviews.count()"
   ]
  },
  {
   "cell_type": "code",
   "execution_count": 95,
   "metadata": {},
   "outputs": [
    {
     "name": "stderr",
     "output_type": "stream",
     "text": [
      "/Library/Frameworks/Python.framework/Versions/3.8/lib/python3.8/site-packages/pandas/core/indexing.py:671: SettingWithCopyWarning: \n",
      "A value is trying to be set on a copy of a slice from a DataFrame\n",
      "\n",
      "See the caveats in the documentation: https://pandas.pydata.org/pandas-docs/stable/user_guide/indexing.html#returning-a-view-versus-a-copy\n",
      "  self._setitem_with_indexer(indexer, value)\n"
     ]
    }
   ],
   "source": [
    "reviews = list(df_reviews.review)\n",
    "df_reviews['review_en'] = ''\n",
    "for i in range(len(reviews)):\n",
    "    translations = translator.translate(reviews[i], dest='en', src='tr')\n",
    "    trad = translations.text\n",
    "    df_reviews['review_en'].loc[i] = trad\n",
    "    df_reviews.to_json(\"data/reviews_en/hr-en.json\")\n",
    "    "
   ]
  },
  {
   "cell_type": "code",
   "execution_count": 131,
   "metadata": {},
   "outputs": [],
   "source": [
    "df_reviews1 = pd.read_json (\"data/reviews_en/zhTW-en.json\")"
   ]
  },
  {
   "cell_type": "code",
   "execution_count": 132,
   "metadata": {},
   "outputs": [],
   "source": [
    "df_reviews1 = df_reviews1.drop(columns=['tokenize','match'])"
   ]
  },
  {
   "cell_type": "code",
   "execution_count": 133,
   "metadata": {},
   "outputs": [],
   "source": [
    "df_reviews1.to_json('data/reviews_en/zhTW-en.json')"
   ]
  },
  {
   "cell_type": "code",
   "execution_count": 5,
   "metadata": {},
   "outputs": [
    {
     "data": {
      "text/html": [
       "<div>\n",
       "<style scoped>\n",
       "    .dataframe tbody tr th:only-of-type {\n",
       "        vertical-align: middle;\n",
       "    }\n",
       "\n",
       "    .dataframe tbody tr th {\n",
       "        vertical-align: top;\n",
       "    }\n",
       "\n",
       "    .dataframe thead th {\n",
       "        text-align: right;\n",
       "    }\n",
       "</style>\n",
       "<table border=\"1\" class=\"dataframe\">\n",
       "  <thead>\n",
       "    <tr style=\"text-align: right;\">\n",
       "      <th></th>\n",
       "      <th>index</th>\n",
       "      <th>lang</th>\n",
       "      <th>review</th>\n",
       "      <th>review_en</th>\n",
       "      <th>hometown</th>\n",
       "      <th>rating</th>\n",
       "    </tr>\n",
       "  </thead>\n",
       "  <tbody>\n",
       "    <tr>\n",
       "      <th>0</th>\n",
       "      <td>1</td>\n",
       "      <td>it</td>\n",
       "      <td>location molto comoda...Ti permette di postegg...</td>\n",
       "      <td>very convenient location ... It allows you to ...</td>\n",
       "      <td>Italia</td>\n",
       "      <td>5</td>\n",
       "    </tr>\n",
       "    <tr>\n",
       "      <th>1</th>\n",
       "      <td>3</td>\n",
       "      <td>it</td>\n",
       "      <td>Graziosissimo R&amp;B con vista sullo stretto. Ott...</td>\n",
       "      <td>Very nice R&amp;B overlooking the strait. Excellen...</td>\n",
       "      <td>Italia</td>\n",
       "      <td>5</td>\n",
       "    </tr>\n",
       "    <tr>\n",
       "      <th>2</th>\n",
       "      <td>4</td>\n",
       "      <td>it</td>\n",
       "      <td>Arrivato in questo B&amp;B quasi X caso e cioè gra...</td>\n",
       "      <td>Arriving at this B&amp;B almost X chance, that is,...</td>\n",
       "      <td>Italia</td>\n",
       "      <td>5</td>\n",
       "    </tr>\n",
       "    <tr>\n",
       "      <th>3</th>\n",
       "      <td>6</td>\n",
       "      <td>it</td>\n",
       "      <td>Colorato e curato nei minimi dettagli. Le stan...</td>\n",
       "      <td>Colorful and with attention to the smallest de...</td>\n",
       "      <td>Italia</td>\n",
       "      <td>5</td>\n",
       "    </tr>\n",
       "    <tr>\n",
       "      <th>4</th>\n",
       "      <td>7</td>\n",
       "      <td>it</td>\n",
       "      <td>Al centro di Trapani c’è questa bellissima str...</td>\n",
       "      <td>In the center of Trapani there is this beautif...</td>\n",
       "      <td>Italia</td>\n",
       "      <td>5</td>\n",
       "    </tr>\n",
       "    <tr>\n",
       "      <th>5</th>\n",
       "      <td>9</td>\n",
       "      <td>it</td>\n",
       "      <td>durante il ns tour ci siamo fermati per una no...</td>\n",
       "      <td>during our tour we stopped for a night in this...</td>\n",
       "      <td>Italia</td>\n",
       "      <td>4</td>\n",
       "    </tr>\n",
       "    <tr>\n",
       "      <th>6</th>\n",
       "      <td>12</td>\n",
       "      <td>it</td>\n",
       "      <td>Ho soggiornato per la seconda volta. Una confe...</td>\n",
       "      <td>I stayed for the second time. A confirmation: ...</td>\n",
       "      <td>Italia</td>\n",
       "      <td>5</td>\n",
       "    </tr>\n",
       "    <tr>\n",
       "      <th>7</th>\n",
       "      <td>15</td>\n",
       "      <td>it</td>\n",
       "      <td>Abbiamo alloggiato qui su consiglio di amici. ...</td>\n",
       "      <td>We stayed here on the recommendation of friend...</td>\n",
       "      <td>Italia</td>\n",
       "      <td>5</td>\n",
       "    </tr>\n",
       "    <tr>\n",
       "      <th>8</th>\n",
       "      <td>17</td>\n",
       "      <td>it</td>\n",
       "      <td>Insieme alla mia famiglia, abbiamo passato una...</td>\n",
       "      <td>Together with my family, we spent one night in...</td>\n",
       "      <td>Italia</td>\n",
       "      <td>5</td>\n",
       "    </tr>\n",
       "    <tr>\n",
       "      <th>9</th>\n",
       "      <td>18</td>\n",
       "      <td>it</td>\n",
       "      <td>Bellissima struttura in centro a Trapani, che ...</td>\n",
       "      <td>Beautiful structure in the center of Trapani, ...</td>\n",
       "      <td>Italia</td>\n",
       "      <td>5</td>\n",
       "    </tr>\n",
       "  </tbody>\n",
       "</table>\n",
       "</div>"
      ],
      "text/plain": [
       "   index lang                                             review  \\\n",
       "0      1   it  location molto comoda...Ti permette di postegg...   \n",
       "1      3   it  Graziosissimo R&B con vista sullo stretto. Ott...   \n",
       "2      4   it  Arrivato in questo B&B quasi X caso e cioè gra...   \n",
       "3      6   it  Colorato e curato nei minimi dettagli. Le stan...   \n",
       "4      7   it  Al centro di Trapani c’è questa bellissima str...   \n",
       "5      9   it  durante il ns tour ci siamo fermati per una no...   \n",
       "6     12   it  Ho soggiornato per la seconda volta. Una confe...   \n",
       "7     15   it  Abbiamo alloggiato qui su consiglio di amici. ...   \n",
       "8     17   it  Insieme alla mia famiglia, abbiamo passato una...   \n",
       "9     18   it  Bellissima struttura in centro a Trapani, che ...   \n",
       "\n",
       "                                           review_en hometown  rating  \n",
       "0  very convenient location ... It allows you to ...   Italia       5  \n",
       "1  Very nice R&B overlooking the strait. Excellen...   Italia       5  \n",
       "2  Arriving at this B&B almost X chance, that is,...   Italia       5  \n",
       "3  Colorful and with attention to the smallest de...   Italia       5  \n",
       "4  In the center of Trapani there is this beautif...   Italia       5  \n",
       "5  during our tour we stopped for a night in this...   Italia       4  \n",
       "6  I stayed for the second time. A confirmation: ...   Italia       5  \n",
       "7  We stayed here on the recommendation of friend...   Italia       5  \n",
       "8  Together with my family, we spent one night in...   Italia       5  \n",
       "9  Beautiful structure in the center of Trapani, ...   Italia       5  "
      ]
     },
     "execution_count": 5,
     "metadata": {},
     "output_type": "execute_result"
    }
   ],
   "source": [
    "df_reviews1 = pd.read_json (\"data/reviews/it-en.json\")\n",
    "df_reviews1.head(10)"
   ]
  },
  {
   "cell_type": "code",
   "execution_count": null,
   "metadata": {},
   "outputs": [],
   "source": []
  }
 ],
 "metadata": {
  "kernelspec": {
   "display_name": "Python 3",
   "language": "python",
   "name": "python3"
  },
  "language_info": {
   "codemirror_mode": {
    "name": "ipython",
    "version": 3
   },
   "file_extension": ".py",
   "mimetype": "text/x-python",
   "name": "python",
   "nbconvert_exporter": "python",
   "pygments_lexer": "ipython3",
   "version": "3.8.3"
  }
 },
 "nbformat": 4,
 "nbformat_minor": 4
}
