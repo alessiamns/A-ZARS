{
 "cells": [
  {
   "cell_type": "markdown",
   "metadata": {},
   "source": [
    "# Data Analysis"
   ]
  },
  {
   "cell_type": "markdown",
   "metadata": {},
   "source": [
    "An open source Machine Learning library for the Python programming language, Scikit-learn was used: it contains classification, regression and clustering algorithms and support vector machines, logistic regression, Bayesian classifier, k-mean and DBSCAN, and is designed to work with the NumPy and SciPy libraries.\n",
    "As previously mentioned, the data set consists of 300 reviews, of which 75% will be used for training and the remaining 25% for testing.\n",
    "After training the model, you can predict the label for a new dataset using the predict function. The test data that has been obtained is passed to the predict function as parameters.\n",
    "The generated DataFrame will consist of the following columns:\n",
    "* index: index that identifies the review within the original table\n",
    "* nation: nationality of origin of the traveler\n",
    "* Breakfast Y / N: binary value that corresponds to the presence / absence of the service within the review\n",
    "* Rating: rating attributed to the review\n"
   ]
  },
  {
   "cell_type": "code",
   "execution_count": 1,
   "metadata": {},
   "outputs": [],
   "source": [
    "import pandas as pd\n",
    "import numpy as np"
   ]
  },
  {
   "cell_type": "markdown",
   "metadata": {},
   "source": [
    "## Preparazione dati"
   ]
  },
  {
   "cell_type": "code",
   "execution_count": 2,
   "metadata": {},
   "outputs": [
    {
     "data": {
      "text/html": [
       "<div>\n",
       "<style scoped>\n",
       "    .dataframe tbody tr th:only-of-type {\n",
       "        vertical-align: middle;\n",
       "    }\n",
       "\n",
       "    .dataframe tbody tr th {\n",
       "        vertical-align: top;\n",
       "    }\n",
       "\n",
       "    .dataframe thead th {\n",
       "        text-align: right;\n",
       "    }\n",
       "</style>\n",
       "<table border=\"1\" class=\"dataframe\">\n",
       "  <thead>\n",
       "    <tr style=\"text-align: right;\">\n",
       "      <th></th>\n",
       "      <th>index</th>\n",
       "      <th>lang</th>\n",
       "      <th>review</th>\n",
       "      <th>amenity_1</th>\n",
       "      <th>amenity_2</th>\n",
       "      <th>amenity_3</th>\n",
       "      <th>amenity_4</th>\n",
       "      <th>amenity_5</th>\n",
       "      <th>amenity_6</th>\n",
       "      <th>hometown</th>\n",
       "      <th>rating</th>\n",
       "    </tr>\n",
       "  </thead>\n",
       "  <tbody>\n",
       "    <tr>\n",
       "      <th>0</th>\n",
       "      <td>35689</td>\n",
       "      <td>da</td>\n",
       "      <td>The hotel is nicely located. Not out on Ortigi...</td>\n",
       "      <td>Roof terrace</td>\n",
       "      <td>Breakfast available</td>\n",
       "      <td></td>\n",
       "      <td></td>\n",
       "      <td></td>\n",
       "      <td></td>\n",
       "      <td>Danimarca</td>\n",
       "      <td>5</td>\n",
       "    </tr>\n",
       "    <tr>\n",
       "      <th>1</th>\n",
       "      <td>36725</td>\n",
       "      <td>da</td>\n",
       "      <td>The only good thing one can say about this hot...</td>\n",
       "      <td>Wifi</td>\n",
       "      <td>Air conditioning</td>\n",
       "      <td>Breakfast available</td>\n",
       "      <td></td>\n",
       "      <td></td>\n",
       "      <td></td>\n",
       "      <td>Ungheria</td>\n",
       "      <td>1</td>\n",
       "    </tr>\n",
       "    <tr>\n",
       "      <th>2</th>\n",
       "      <td>37909</td>\n",
       "      <td>da</td>\n",
       "      <td>A wonderful little hotel that is very centrall...</td>\n",
       "      <td>Free parking</td>\n",
       "      <td></td>\n",
       "      <td></td>\n",
       "      <td></td>\n",
       "      <td></td>\n",
       "      <td></td>\n",
       "      <td>Danimarca</td>\n",
       "      <td>5</td>\n",
       "    </tr>\n",
       "    <tr>\n",
       "      <th>3</th>\n",
       "      <td>38022</td>\n",
       "      <td>da</td>\n",
       "      <td>This hotel is surrounded by fields. There are ...</td>\n",
       "      <td>Pool</td>\n",
       "      <td></td>\n",
       "      <td></td>\n",
       "      <td></td>\n",
       "      <td></td>\n",
       "      <td></td>\n",
       "      <td>Danimarca</td>\n",
       "      <td>5</td>\n",
       "    </tr>\n",
       "    <tr>\n",
       "      <th>4</th>\n",
       "      <td>39403</td>\n",
       "      <td>da</td>\n",
       "      <td>This small hotel located in the old town of Si...</td>\n",
       "      <td>Breakfast available</td>\n",
       "      <td></td>\n",
       "      <td></td>\n",
       "      <td></td>\n",
       "      <td></td>\n",
       "      <td></td>\n",
       "      <td>Danimarca</td>\n",
       "      <td>4</td>\n",
       "    </tr>\n",
       "    <tr>\n",
       "      <th>6</th>\n",
       "      <td>41943</td>\n",
       "      <td>da</td>\n",
       "      <td>Here you will find a small oasis just inside t...</td>\n",
       "      <td>Breakfast available</td>\n",
       "      <td>parking area</td>\n",
       "      <td>Luggage storage</td>\n",
       "      <td></td>\n",
       "      <td></td>\n",
       "      <td></td>\n",
       "      <td>Danimarca</td>\n",
       "      <td>4</td>\n",
       "    </tr>\n",
       "    <tr>\n",
       "      <th>7</th>\n",
       "      <td>42013</td>\n",
       "      <td>da</td>\n",
       "      <td>The hotel is in a green setting but there is n...</td>\n",
       "      <td>Restaurant</td>\n",
       "      <td>Breakfast available</td>\n",
       "      <td></td>\n",
       "      <td></td>\n",
       "      <td></td>\n",
       "      <td></td>\n",
       "      <td>Danimarca</td>\n",
       "      <td>4</td>\n",
       "    </tr>\n",
       "    <tr>\n",
       "      <th>8</th>\n",
       "      <td>42376</td>\n",
       "      <td>da</td>\n",
       "      <td>We have stayed here for a week and enjoyed eve...</td>\n",
       "      <td>Pool</td>\n",
       "      <td>Breakfast available</td>\n",
       "      <td></td>\n",
       "      <td></td>\n",
       "      <td></td>\n",
       "      <td></td>\n",
       "      <td>Danimarca</td>\n",
       "      <td>5</td>\n",
       "    </tr>\n",
       "    <tr>\n",
       "      <th>9</th>\n",
       "      <td>42471</td>\n",
       "      <td>da</td>\n",
       "      <td>We stayed there all 10 days we were in Sicily....</td>\n",
       "      <td>Breakfast available</td>\n",
       "      <td>Roof terrace</td>\n",
       "      <td></td>\n",
       "      <td></td>\n",
       "      <td></td>\n",
       "      <td></td>\n",
       "      <td>Danimarca</td>\n",
       "      <td>5</td>\n",
       "    </tr>\n",
       "    <tr>\n",
       "      <th>10</th>\n",
       "      <td>44728</td>\n",
       "      <td>da</td>\n",
       "      <td>Good location in the middle of the old town\\nC...</td>\n",
       "      <td></td>\n",
       "      <td>Breakfast available</td>\n",
       "      <td></td>\n",
       "      <td></td>\n",
       "      <td></td>\n",
       "      <td></td>\n",
       "      <td>Danimarca</td>\n",
       "      <td>4</td>\n",
       "    </tr>\n",
       "  </tbody>\n",
       "</table>\n",
       "</div>"
      ],
      "text/plain": [
       "    index lang                                             review  \\\n",
       "0   35689   da  The hotel is nicely located. Not out on Ortigi...   \n",
       "1   36725   da  The only good thing one can say about this hot...   \n",
       "2   37909   da  A wonderful little hotel that is very centrall...   \n",
       "3   38022   da  This hotel is surrounded by fields. There are ...   \n",
       "4   39403   da  This small hotel located in the old town of Si...   \n",
       "6   41943   da  Here you will find a small oasis just inside t...   \n",
       "7   42013   da  The hotel is in a green setting but there is n...   \n",
       "8   42376   da  We have stayed here for a week and enjoyed eve...   \n",
       "9   42471   da  We stayed there all 10 days we were in Sicily....   \n",
       "10  44728   da  Good location in the middle of the old town\\nC...   \n",
       "\n",
       "              amenity_1            amenity_2            amenity_3 amenity_4  \\\n",
       "0          Roof terrace  Breakfast available                                  \n",
       "1                  Wifi     Air conditioning  Breakfast available             \n",
       "2          Free parking                                                       \n",
       "3                  Pool                                                       \n",
       "4   Breakfast available                                                       \n",
       "6   Breakfast available         parking area      Luggage storage             \n",
       "7            Restaurant  Breakfast available                                  \n",
       "8                  Pool  Breakfast available                                  \n",
       "9   Breakfast available         Roof terrace                                  \n",
       "10                       Breakfast available                                  \n",
       "\n",
       "   amenity_5 amenity_6   hometown  rating  \n",
       "0                       Danimarca       5  \n",
       "1                        Ungheria       1  \n",
       "2                       Danimarca       5  \n",
       "3                       Danimarca       5  \n",
       "4                       Danimarca       4  \n",
       "6                       Danimarca       4  \n",
       "7                       Danimarca       4  \n",
       "8                       Danimarca       5  \n",
       "9                       Danimarca       5  \n",
       "10                      Danimarca       4  "
      ]
     },
     "execution_count": 2,
     "metadata": {},
     "output_type": "execute_result"
    }
   ],
   "source": [
    "df = pd.read_json('data/manual_annotations.json')\n",
    "df.head(10)"
   ]
  },
  {
   "cell_type": "code",
   "execution_count": 3,
   "metadata": {},
   "outputs": [
    {
     "data": {
      "text/html": [
       "<div>\n",
       "<style scoped>\n",
       "    .dataframe tbody tr th:only-of-type {\n",
       "        vertical-align: middle;\n",
       "    }\n",
       "\n",
       "    .dataframe tbody tr th {\n",
       "        vertical-align: top;\n",
       "    }\n",
       "\n",
       "    .dataframe thead th {\n",
       "        text-align: right;\n",
       "    }\n",
       "</style>\n",
       "<table border=\"1\" class=\"dataframe\">\n",
       "  <thead>\n",
       "    <tr style=\"text-align: right;\">\n",
       "      <th></th>\n",
       "      <th>language</th>\n",
       "      <th>amenity</th>\n",
       "    </tr>\n",
       "  </thead>\n",
       "  <tbody>\n",
       "    <tr>\n",
       "      <th>0</th>\n",
       "      <td>en</td>\n",
       "      <td>Currency exchange</td>\n",
       "    </tr>\n",
       "    <tr>\n",
       "      <th>1</th>\n",
       "      <td>en</td>\n",
       "      <td>Private check-in / check-out</td>\n",
       "    </tr>\n",
       "    <tr>\n",
       "      <th>2</th>\n",
       "      <td>en</td>\n",
       "      <td>Breakfast available</td>\n",
       "    </tr>\n",
       "    <tr>\n",
       "      <th>3</th>\n",
       "      <td>en</td>\n",
       "      <td>Free breakfast</td>\n",
       "    </tr>\n",
       "    <tr>\n",
       "      <th>4</th>\n",
       "      <td>en</td>\n",
       "      <td>Breakfast in the room</td>\n",
       "    </tr>\n",
       "    <tr>\n",
       "      <th>...</th>\n",
       "      <td>...</td>\n",
       "      <td>...</td>\n",
       "    </tr>\n",
       "    <tr>\n",
       "      <th>178</th>\n",
       "      <td>en</td>\n",
       "      <td>Salt water swimming pool</td>\n",
       "    </tr>\n",
       "    <tr>\n",
       "      <th>179</th>\n",
       "      <td>en</td>\n",
       "      <td>Photocopier / fax in the congress center</td>\n",
       "    </tr>\n",
       "    <tr>\n",
       "      <th>180</th>\n",
       "      <td>en</td>\n",
       "      <td>Aerobics</td>\n",
       "    </tr>\n",
       "    <tr>\n",
       "      <th>181</th>\n",
       "      <td>en</td>\n",
       "      <td>Archery</td>\n",
       "    </tr>\n",
       "    <tr>\n",
       "      <th>182</th>\n",
       "      <td>en</td>\n",
       "      <td>Free shuttle or taxi service</td>\n",
       "    </tr>\n",
       "  </tbody>\n",
       "</table>\n",
       "<p>183 rows × 2 columns</p>\n",
       "</div>"
      ],
      "text/plain": [
       "    language                                   amenity\n",
       "0         en                         Currency exchange\n",
       "1         en              Private check-in / check-out\n",
       "2         en                       Breakfast available\n",
       "3         en                            Free breakfast\n",
       "4         en                     Breakfast in the room\n",
       "..       ...                                       ...\n",
       "178       en                  Salt water swimming pool\n",
       "179       en  Photocopier / fax in the congress center\n",
       "180       en                                  Aerobics\n",
       "181       en                                   Archery\n",
       "182       en              Free shuttle or taxi service\n",
       "\n",
       "[183 rows x 2 columns]"
      ]
     },
     "execution_count": 3,
     "metadata": {},
     "output_type": "execute_result"
    }
   ],
   "source": [
    "sd = pd.read_json('data/amenities.json')\n",
    "sd"
   ]
  },
  {
   "cell_type": "markdown",
   "metadata": {},
   "source": [
    "## Preprocessing"
   ]
  },
  {
   "cell_type": "code",
   "execution_count": 4,
   "metadata": {},
   "outputs": [],
   "source": [
    "df['amenity_1'] = df['amenity_1'].str.lower()\n",
    "df['amenity_2'] = df['amenity_2'].str.lower()\n",
    "df['amenity_3'] = df['amenity_3'].str.lower()\n",
    "df['amenity_4'] = df['amenity_4'].str.lower()\n",
    "df['amenity_5'] = df['amenity_5'].str.lower()\n",
    "df['amenity_6'] = df['amenity_6'].str.lower()"
   ]
  },
  {
   "cell_type": "code",
   "execution_count": 5,
   "metadata": {},
   "outputs": [],
   "source": [
    "s = sd['amenity'].str.lower()\n",
    "servizi = s.to_list()"
   ]
  },
  {
   "cell_type": "markdown",
   "metadata": {},
   "source": [
    "## Assegnamento valore binario"
   ]
  },
  {
   "cell_type": "code",
   "execution_count": 6,
   "metadata": {},
   "outputs": [],
   "source": [
    "import numpy as np\n",
    "y = []\n",
    "for row in range(0,len(df)):\n",
    "    found = False\n",
    "    for column in range(1,7):\n",
    "        column_name = 'amenity_' + str(column)\n",
    "        if df.iloc[row][column_name] == 'breakfast available':\n",
    "            y.append(1)\n",
    "            found = True\n",
    "            break\n",
    "    if not found:\n",
    "        y.append(0)"
   ]
  },
  {
   "cell_type": "code",
   "execution_count": 7,
   "metadata": {},
   "outputs": [],
   "source": [
    "df['review'] = df['review'].str.lower()"
   ]
  },
  {
   "cell_type": "markdown",
   "metadata": {},
   "source": [
    "## Train and test split"
   ]
  },
  {
   "cell_type": "code",
   "execution_count": 8,
   "metadata": {},
   "outputs": [],
   "source": [
    "from sklearn.model_selection import train_test_split\n",
    "\n",
    "X = df['review'].to_list()\n",
    "y\n",
    "\n",
    "X_train, X_test, y_train, y_test = train_test_split(X,y, test_size=0.25, random_state=0)\n",
    "\n"
   ]
  },
  {
   "cell_type": "markdown",
   "metadata": {},
   "source": [
    "## CountVectorizer"
   ]
  },
  {
   "cell_type": "code",
   "execution_count": 9,
   "metadata": {},
   "outputs": [
    {
     "data": {
      "text/plain": [
       "<225x2858 sparse matrix of type '<class 'numpy.int64'>'\n",
       "\twith 15037 stored elements in Compressed Sparse Row format>"
      ]
     },
     "execution_count": 9,
     "metadata": {},
     "output_type": "execute_result"
    }
   ],
   "source": [
    "from sklearn.feature_extraction.text import CountVectorizer\n",
    "\n",
    "vect = CountVectorizer()\n",
    "X_train_vect = vect.fit_transform(X_train)\n",
    "X_train_vect\n"
   ]
  },
  {
   "cell_type": "markdown",
   "metadata": {},
   "source": [
    "## Model"
   ]
  },
  {
   "cell_type": "code",
   "execution_count": 10,
   "metadata": {},
   "outputs": [
    {
     "data": {
      "text/plain": [
       "BernoulliNB(alpha=1.0, binarize=0.0, class_prior=None, fit_prior=True)"
      ]
     },
     "execution_count": 10,
     "metadata": {},
     "output_type": "execute_result"
    }
   ],
   "source": [
    "#from sklearn.tree import DecisionTreeClassifier\n",
    "#from sklearn.linear_model import LogisticRegression\n",
    "from sklearn.naive_bayes import BernoulliNB\n",
    "#from sklearn.svm import SVC\n",
    "\n",
    "model = BernoulliNB()\n",
    "model.fit(X_train_vect,y_train)\n",
    "\n"
   ]
  },
  {
   "cell_type": "markdown",
   "metadata": {},
   "source": [
    "## Predict"
   ]
  },
  {
   "cell_type": "code",
   "execution_count": 11,
   "metadata": {},
   "outputs": [],
   "source": [
    "X_test_vect = vect.transform(X_test)\n",
    "\n",
    "y_pred = model.predict(X_test_vect)"
   ]
  },
  {
   "cell_type": "markdown",
   "metadata": {},
   "source": [
    "## Metrics"
   ]
  },
  {
   "cell_type": "markdown",
   "metadata": {},
   "source": [
    "### Precision and recall"
   ]
  },
  {
   "cell_type": "code",
   "execution_count": 12,
   "metadata": {},
   "outputs": [
    {
     "name": "stdout",
     "output_type": "stream",
     "text": [
      "0.8666666666666667\n",
      "1.0\n"
     ]
    }
   ],
   "source": [
    "from sklearn.metrics import precision_score\n",
    "from sklearn.metrics import recall_score\n",
    "X_test_vect = vect.transform(X_test)\n",
    "\n",
    "y_pred = model.predict(X_test_vect)\n",
    "\n",
    "print(precision_score(y_test, y_pred))\n",
    "print(recall_score(y_test, y_pred))\n"
   ]
  },
  {
   "cell_type": "code",
   "execution_count": 13,
   "metadata": {
    "scrolled": true
   },
   "outputs": [
    {
     "name": "stdout",
     "output_type": "stream",
     "text": [
      "the stay was fantastic, the room has every comfort and is very comfortable, it is in a great location and the staff is very friendly for every need! the wi-fi service, the air conditioning, the tv ... all functional !!! the bathroom is large with a spacious shower ... you deserve 5 stars!\n"
     ]
    }
   ],
   "source": [
    "print(X_train[23])"
   ]
  },
  {
   "cell_type": "code",
   "execution_count": 14,
   "metadata": {},
   "outputs": [
    {
     "data": {
      "text/plain": [
       "0"
      ]
     },
     "execution_count": 14,
     "metadata": {},
     "output_type": "execute_result"
    }
   ],
   "source": [
    "y_train[23]"
   ]
  },
  {
   "cell_type": "markdown",
   "metadata": {},
   "source": [
    "## AUC"
   ]
  },
  {
   "cell_type": "code",
   "execution_count": 15,
   "metadata": {},
   "outputs": [
    {
     "name": "stdout",
     "output_type": "stream",
     "text": [
      "AUC:  0.5454545454545454\n"
     ]
    }
   ],
   "source": [
    "from sklearn.metrics import roc_auc_score\n",
    "\n",
    "# Predict the transformed test documents\n",
    "predictions = y_pred\n",
    "\n",
    "print('AUC: ', roc_auc_score(y_test, predictions))"
   ]
  },
  {
   "cell_type": "markdown",
   "metadata": {},
   "source": [
    "### Accuracy"
   ]
  },
  {
   "cell_type": "code",
   "execution_count": 16,
   "metadata": {},
   "outputs": [
    {
     "name": "stdout",
     "output_type": "stream",
     "text": [
      "0.868421052631579\n"
     ]
    }
   ],
   "source": [
    "from sklearn.metrics import accuracy_score\n",
    "\n",
    "X_test_vect = vect.transform(X_test)\n",
    "X_test_vect\n",
    "y_pred = model.predict(X_test_vect)\n",
    "\n",
    "print(accuracy_score(y_test, y_pred))"
   ]
  },
  {
   "cell_type": "markdown",
   "metadata": {},
   "source": [
    "## Classification Report"
   ]
  },
  {
   "cell_type": "code",
   "execution_count": 17,
   "metadata": {},
   "outputs": [
    {
     "name": "stdout",
     "output_type": "stream",
     "text": [
      "              precision    recall  f1-score   support\n",
      "\n",
      "           0       1.00      0.09      0.17        11\n",
      "           1       0.87      1.00      0.93        65\n",
      "\n",
      "    accuracy                           0.87        76\n",
      "   macro avg       0.93      0.55      0.55        76\n",
      "weighted avg       0.89      0.87      0.82        76\n",
      "\n"
     ]
    }
   ],
   "source": [
    "from sklearn.metrics import classification_report\n",
    "\n",
    "print(classification_report(y_test, y_pred))"
   ]
  },
  {
   "cell_type": "markdown",
   "metadata": {},
   "source": [
    "# n-grams"
   ]
  },
  {
   "cell_type": "code",
   "execution_count": 18,
   "metadata": {},
   "outputs": [
    {
     "data": {
      "text/plain": [
       "526"
      ]
     },
     "execution_count": 18,
     "metadata": {},
     "output_type": "execute_result"
    }
   ],
   "source": [
    "# Fit the CountVectorizer to the training data specifiying a minimum \n",
    "# document frequency of 5 and extracting 1-grams and 2-grams\n",
    "vect = CountVectorizer(min_df=5, ngram_range=(1,2), stop_words='english').fit(X_train)\n",
    "\n",
    "X_train_vectorized = vect.transform(X_train)\n",
    "\n",
    "len(vect.get_feature_names())"
   ]
  },
  {
   "cell_type": "code",
   "execution_count": 19,
   "metadata": {},
   "outputs": [
    {
     "name": "stdout",
     "output_type": "stream",
     "text": [
      "AUC:  0.7419580419580418\n"
     ]
    }
   ],
   "source": [
    "model = BernoulliNB()\n",
    "model.fit(X_train_vectorized, y_train)\n",
    "\n",
    "predictions = model.predict(vect.transform(X_test))\n",
    "\n",
    "print('AUC: ', roc_auc_score(y_test, predictions))"
   ]
  },
  {
   "cell_type": "code",
   "execution_count": 20,
   "metadata": {},
   "outputs": [
    {
     "name": "stdout",
     "output_type": "stream",
     "text": [
      "Largest Coefs: \n",
      "['breakfast']\n"
     ]
    }
   ],
   "source": [
    "feature_names = np.array(vect.get_feature_names())\n",
    "\n",
    "sorted_coef_index = model.coef_[0].argsort()\n",
    "\n",
    "print('Largest Coefs: \\n{}'.format(feature_names[sorted_coef_index[:-2:-1]]))"
   ]
  },
  {
   "cell_type": "code",
   "execution_count": 21,
   "metadata": {},
   "outputs": [
    {
     "data": {
      "text/plain": [
       "'Danimarca'"
      ]
     },
     "execution_count": 21,
     "metadata": {},
     "output_type": "execute_result"
    }
   ],
   "source": [
    "y_pred[0] # contiene i servizi della recensione 0\n",
    "df.iloc[0]['hometown'] # contiene la provenienza della recensione 0\n"
   ]
  },
  {
   "cell_type": "markdown",
   "metadata": {},
   "source": [
    "## Predict for 4000 reviews"
   ]
  },
  {
   "cell_type": "code",
   "execution_count": 24,
   "metadata": {},
   "outputs": [],
   "source": [
    "df = pd.read_json('data/reviews_translated.json')\n",
    "\n",
    "X = df['TextEn'] \n",
    "X_vect = vect.transform(X)\n",
    "\n",
    "y_pred = model.predict(X_vect)"
   ]
  },
  {
   "cell_type": "markdown",
   "metadata": {},
   "source": [
    "### Result"
   ]
  },
  {
   "cell_type": "code",
   "execution_count": 25,
   "metadata": {},
   "outputs": [
    {
     "data": {
      "text/html": [
       "<div>\n",
       "<style scoped>\n",
       "    .dataframe tbody tr th:only-of-type {\n",
       "        vertical-align: middle;\n",
       "    }\n",
       "\n",
       "    .dataframe tbody tr th {\n",
       "        vertical-align: top;\n",
       "    }\n",
       "\n",
       "    .dataframe thead th {\n",
       "        text-align: right;\n",
       "    }\n",
       "</style>\n",
       "<table border=\"1\" class=\"dataframe\">\n",
       "  <thead>\n",
       "    <tr style=\"text-align: right;\">\n",
       "      <th></th>\n",
       "      <th>index</th>\n",
       "      <th>nation</th>\n",
       "      <th>Breakfast Y/N</th>\n",
       "      <th>Rating</th>\n",
       "    </tr>\n",
       "  </thead>\n",
       "  <tbody>\n",
       "    <tr>\n",
       "      <th>0</th>\n",
       "      <td>0</td>\n",
       "      <td>Regno Unito</td>\n",
       "      <td>1</td>\n",
       "      <td>5</td>\n",
       "    </tr>\n",
       "    <tr>\n",
       "      <th>1</th>\n",
       "      <td>1</td>\n",
       "      <td>Italia</td>\n",
       "      <td>1</td>\n",
       "      <td>5</td>\n",
       "    </tr>\n",
       "    <tr>\n",
       "      <th>2</th>\n",
       "      <td>2</td>\n",
       "      <td>Spagna</td>\n",
       "      <td>1</td>\n",
       "      <td>5</td>\n",
       "    </tr>\n",
       "    <tr>\n",
       "      <th>3</th>\n",
       "      <td>3</td>\n",
       "      <td>Italia</td>\n",
       "      <td>1</td>\n",
       "      <td>5</td>\n",
       "    </tr>\n",
       "    <tr>\n",
       "      <th>4</th>\n",
       "      <td>4</td>\n",
       "      <td>Italia</td>\n",
       "      <td>1</td>\n",
       "      <td>5</td>\n",
       "    </tr>\n",
       "    <tr>\n",
       "      <th>...</th>\n",
       "      <td>...</td>\n",
       "      <td>...</td>\n",
       "      <td>...</td>\n",
       "      <td>...</td>\n",
       "    </tr>\n",
       "    <tr>\n",
       "      <th>195</th>\n",
       "      <td>195</td>\n",
       "      <td>Italia</td>\n",
       "      <td>1</td>\n",
       "      <td>4</td>\n",
       "    </tr>\n",
       "    <tr>\n",
       "      <th>196</th>\n",
       "      <td>196</td>\n",
       "      <td>Italia</td>\n",
       "      <td>0</td>\n",
       "      <td>5</td>\n",
       "    </tr>\n",
       "    <tr>\n",
       "      <th>197</th>\n",
       "      <td>197</td>\n",
       "      <td>Italia</td>\n",
       "      <td>0</td>\n",
       "      <td>4</td>\n",
       "    </tr>\n",
       "    <tr>\n",
       "      <th>198</th>\n",
       "      <td>198</td>\n",
       "      <td>Italia</td>\n",
       "      <td>0</td>\n",
       "      <td>3</td>\n",
       "    </tr>\n",
       "    <tr>\n",
       "      <th>199</th>\n",
       "      <td>199</td>\n",
       "      <td>Regno Unito</td>\n",
       "      <td>1</td>\n",
       "      <td>5</td>\n",
       "    </tr>\n",
       "  </tbody>\n",
       "</table>\n",
       "<p>200 rows × 4 columns</p>\n",
       "</div>"
      ],
      "text/plain": [
       "     index       nation  Breakfast Y/N  Rating\n",
       "0        0  Regno Unito              1       5\n",
       "1        1       Italia              1       5\n",
       "2        2       Spagna              1       5\n",
       "3        3       Italia              1       5\n",
       "4        4       Italia              1       5\n",
       "..     ...          ...            ...     ...\n",
       "195    195       Italia              1       4\n",
       "196    196       Italia              0       5\n",
       "197    197       Italia              0       4\n",
       "198    198       Italia              0       3\n",
       "199    199  Regno Unito              1       5\n",
       "\n",
       "[200 rows x 4 columns]"
      ]
     },
     "execution_count": 25,
     "metadata": {},
     "output_type": "execute_result"
    }
   ],
   "source": [
    "dataset = pd.DataFrame({'nation' : df['Hometown'], \n",
    "                        'Breakfast Y/N':y_pred, \n",
    "                        'Rating': df['Rating']})\n",
    "dataset.reset_index()"
   ]
  },
  {
   "cell_type": "code",
   "execution_count": 31,
   "metadata": {},
   "outputs": [],
   "source": [
    "countries = dataset['nation'].unique()"
   ]
  },
  {
   "cell_type": "code",
   "execution_count": 41,
   "metadata": {},
   "outputs": [
    {
     "data": {
      "text/plain": [
       "[{'country': 'Regno Unito', 'percentage': 0.95},\n",
       " {'country': 'Italia', 'percentage': 0.7078651685393258},\n",
       " {'country': 'Spagna', 'percentage': 0.75},\n",
       " {'country': 'Germania', 'percentage': 1.0},\n",
       " {'country': 'Stati Uniti', 'percentage': 0.8095238095238095},\n",
       " {'country': 'Argentina', 'percentage': 1.0},\n",
       " {'country': 'Corea del Sud', 'percentage': 1.0},\n",
       " {'country': 'Paesi Bassi', 'percentage': 1.0},\n",
       " {'country': 'Australia', 'percentage': 1.0},\n",
       " {'country': 'Austria', 'percentage': 0.6666666666666666},\n",
       " {'country': 'Nuova Zelanda', 'percentage': 0.5},\n",
       " {'country': 'Canada', 'percentage': 0.75},\n",
       " {'country': 'Finlandia', 'percentage': 1.0},\n",
       " {'country': 'Francia', 'percentage': 1.0},\n",
       " {'country': 'Cina', 'percentage': 0.0},\n",
       " {'country': 'Svezia', 'percentage': 1.0},\n",
       " {'country': 'Svizzera', 'percentage': 1.0},\n",
       " {'country': 'Romania', 'percentage': 1.0},\n",
       " {'country': 'Israele', 'percentage': 1.0},\n",
       " {'country': 'Messico', 'percentage': 0.5},\n",
       " {'country': 'Giappone', 'percentage': 1.0},\n",
       " {'country': 'Brasile', 'percentage': 1.0},\n",
       " {'country': 'Egitto', 'percentage': 1.0}]"
      ]
     },
     "execution_count": 41,
     "metadata": {},
     "output_type": "execute_result"
    }
   ],
   "source": [
    "percentages = []\n",
    "for country in countries:\n",
    "    n_reviews = dataset[dataset['nation'] == country]['nation'].count()\n",
    "    n_breakfast_reviews = dataset[(dataset['Breakfast Y/N']==1) & (dataset['nation']==country)]['nation'].count()\n",
    "    percentage = n_breakfast_reviews / n_reviews\n",
    "    percentages.append({'country': country, 'percentage' : percentage})\n",
    "percentages"
   ]
  },
  {
   "cell_type": "code",
   "execution_count": 45,
   "metadata": {},
   "outputs": [
    {
     "name": "stderr",
     "output_type": "stream",
     "text": [
      "<ipython-input-45-0a8f626ce29e>:7: RuntimeWarning: invalid value encountered in long_scalars\n",
      "  percentage = n_rating / n_breakfast_reviews\n"
     ]
    },
    {
     "data": {
      "text/plain": [
       "[{'country': 'Regno Unito',\n",
       "  'ratings': [{1: 0.0},\n",
       "   {2: 0.05263157894736842},\n",
       "   {3: 0.0},\n",
       "   {4: 0.10526315789473684},\n",
       "   {5: 0.8421052631578947}]},\n",
       " {'country': 'Italia',\n",
       "  'ratings': [{1: 0.0},\n",
       "   {2: 0.031746031746031744},\n",
       "   {3: 0.031746031746031744},\n",
       "   {4: 0.15873015873015872},\n",
       "   {5: 0.7777777777777778}]},\n",
       " {'country': 'Spagna',\n",
       "  'ratings': [{1: 0.0},\n",
       "   {2: 0.0},\n",
       "   {3: 0.0},\n",
       "   {4: 0.3333333333333333},\n",
       "   {5: 0.6666666666666666}]},\n",
       " {'country': 'Germania',\n",
       "  'ratings': [{1: 0.0},\n",
       "   {2: 0.0},\n",
       "   {3: 0.0},\n",
       "   {4: 0.3333333333333333},\n",
       "   {5: 0.6666666666666666}]},\n",
       " {'country': 'Stati Uniti',\n",
       "  'ratings': [{1: 0.0},\n",
       "   {2: 0.0},\n",
       "   {3: 0.0},\n",
       "   {4: 0.17647058823529413},\n",
       "   {5: 0.8235294117647058}]},\n",
       " {'country': 'Argentina',\n",
       "  'ratings': [{1: 0.0}, {2: 0.0}, {3: 0.0}, {4: 0.6}, {5: 0.4}]},\n",
       " {'country': 'Corea del Sud',\n",
       "  'ratings': [{1: 0.0}, {2: 0.0}, {3: 0.0}, {4: 0.0}, {5: 1.0}]},\n",
       " {'country': 'Paesi Bassi',\n",
       "  'ratings': [{1: 0.0}, {2: 0.0}, {3: 0.0}, {4: 0.0}, {5: 1.0}]},\n",
       " {'country': 'Australia',\n",
       "  'ratings': [{1: 0.0}, {2: 0.0}, {3: 0.0}, {4: 0.0}, {5: 1.0}]},\n",
       " {'country': 'Austria',\n",
       "  'ratings': [{1: 0.0}, {2: 0.0}, {3: 0.0}, {4: 0.0}, {5: 1.0}]},\n",
       " {'country': 'Nuova Zelanda',\n",
       "  'ratings': [{1: 0.0}, {2: 0.0}, {3: 0.0}, {4: 0.0}, {5: 1.0}]},\n",
       " {'country': 'Canada',\n",
       "  'ratings': [{1: 0.0}, {2: 0.0}, {3: 0.0}, {4: 0.0}, {5: 1.0}]},\n",
       " {'country': 'Finlandia',\n",
       "  'ratings': [{1: 0.0}, {2: 0.0}, {3: 0.0}, {4: 0.0}, {5: 1.0}]},\n",
       " {'country': 'Francia',\n",
       "  'ratings': [{1: 0.0},\n",
       "   {2: 0.3333333333333333},\n",
       "   {3: 0.0},\n",
       "   {4: 0.3333333333333333},\n",
       "   {5: 0.3333333333333333}]},\n",
       " {'country': 'Cina',\n",
       "  'ratings': [{1: nan}, {2: nan}, {3: nan}, {4: nan}, {5: nan}]},\n",
       " {'country': 'Svezia',\n",
       "  'ratings': [{1: 0.0}, {2: 0.0}, {3: 0.0}, {4: 1.0}, {5: 0.0}]},\n",
       " {'country': 'Svizzera',\n",
       "  'ratings': [{1: 0.0}, {2: 0.0}, {3: 0.0}, {4: 0.0}, {5: 1.0}]},\n",
       " {'country': 'Romania',\n",
       "  'ratings': [{1: 0.0}, {2: 0.0}, {3: 0.0}, {4: 0.0}, {5: 1.0}]},\n",
       " {'country': 'Israele',\n",
       "  'ratings': [{1: 0.0}, {2: 1.0}, {3: 0.0}, {4: 0.0}, {5: 0.0}]},\n",
       " {'country': 'Messico',\n",
       "  'ratings': [{1: 0.0}, {2: 0.0}, {3: 0.0}, {4: 0.0}, {5: 1.0}]},\n",
       " {'country': 'Giappone',\n",
       "  'ratings': [{1: 0.0}, {2: 0.0}, {3: 0.0}, {4: 0.0}, {5: 1.0}]},\n",
       " {'country': 'Brasile',\n",
       "  'ratings': [{1: 0.0}, {2: 0.0}, {3: 0.0}, {4: 0.0}, {5: 1.0}]},\n",
       " {'country': 'Egitto',\n",
       "  'ratings': [{1: 0.0}, {2: 0.0}, {3: 0.0}, {4: 0.0}, {5: 1.0}]}]"
      ]
     },
     "execution_count": 45,
     "metadata": {},
     "output_type": "execute_result"
    }
   ],
   "source": [
    "ratings = []\n",
    "for country in countries:\n",
    "    current = []\n",
    "    for i in range(1,6):\n",
    "        n_breakfast_reviews = dataset[(dataset['Breakfast Y/N']==1) & (dataset['nation']==country)]['nation'].count()\n",
    "        n_rating = dataset[(dataset['Breakfast Y/N']==1) & (dataset['nation']==country) & (dataset['Rating'] == i)]['nation'].count()\n",
    "        percentage = n_rating / n_breakfast_reviews\n",
    "        current.append({i : percentage})\n",
    "    ratings.append({'country': country, 'ratings' : current})\n",
    "ratings"
   ]
  },
  {
   "cell_type": "code",
   "execution_count": null,
   "metadata": {},
   "outputs": [],
   "source": []
  }
 ],
 "metadata": {
  "kernelspec": {
   "display_name": "Python 3",
   "language": "python",
   "name": "python3"
  },
  "language_info": {
   "codemirror_mode": {
    "name": "ipython",
    "version": 3
   },
   "file_extension": ".py",
   "mimetype": "text/x-python",
   "name": "python",
   "nbconvert_exporter": "python",
   "pygments_lexer": "ipython3",
   "version": "3.8.1"
  }
 },
 "nbformat": 4,
 "nbformat_minor": 4
}
