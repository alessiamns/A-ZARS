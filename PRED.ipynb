{
 "cells": [
  {
   "cell_type": "code",
   "execution_count": 3,
   "metadata": {},
   "outputs": [],
   "source": [
    "import pandas as pd\n",
    "import numpy as np"
   ]
  },
  {
   "cell_type": "code",
   "execution_count": 106,
   "metadata": {},
   "outputs": [],
   "source": [
    "df_reviews = pd.read_json (\"data/reviews_with_language.json\")"
   ]
  },
  {
   "cell_type": "code",
   "execution_count": 119,
   "metadata": {},
   "outputs": [],
   "source": [
    "one_nation = df_reviews[df_reviews['Hometown'] == 'Belgio'][-400:].reset_index()\n",
    "one_nation.to_json('data/pred/10Belgio.json')"
   ]
  },
  {
   "cell_type": "code",
   "execution_count": null,
   "metadata": {},
   "outputs": [],
   "source": [
    "#nations = ['Paesi Bassi', 'Belgio']\n",
    "#for i in range(len(nations)):\n",
    "#    one_nation = df_reviews[df_reviews['Hometown'] == nations[i]][400::]"
   ]
  },
  {
   "cell_type": "code",
   "execution_count": 139,
   "metadata": {},
   "outputs": [],
   "source": [
    "d1 = pd.read_json('data/pred/1Italia.json')\n",
    "d2 = pd.read_json('data/pred/2Francia.json')\n",
    "d3 = pd.read_json('data/pred/3Regno Unito.json')\n",
    "d4 = pd.read_json('data/pred/4Stati Uniti.json')\n",
    "d5 = pd.read_json('data/pred/5Spagna.json')\n",
    "d6 = pd.read_json('data/pred/6Germania.json')\n",
    "d7 = pd.read_json('data/pred/7Svizzera.json')\n",
    "d8 = pd.read_json('data/pred/8Australia.json')\n",
    "d9 = pd.read_json('data/pred/9Paesi Bassi.json')\n",
    "d10 = pd.read_json('data/pred/10Belgio.json')"
   ]
  },
  {
   "cell_type": "code",
   "execution_count": 140,
   "metadata": {},
   "outputs": [],
   "source": [
    "ten_nations = pd.concat([d1,d2,d3,d4,d5,d6,d7,d8,d9,d10])"
   ]
  },
  {
   "cell_type": "code",
   "execution_count": 141,
   "metadata": {},
   "outputs": [],
   "source": [
    "ten_nations = ten_nations.reset_index()\n",
    "ten_nations.to_json('data/pred/ten_nations.json')"
   ]
  },
  {
   "cell_type": "code",
   "execution_count": 10,
   "metadata": {},
   "outputs": [],
   "source": [
    "d1 = pd.read_json('data/reviews/da-en.json')\n",
    "d2 = pd.read_json('data/reviews/de-en.json')\n",
    "d3 = pd.read_json('data/reviews/el-en.json')\n",
    "d4 = pd.read_json('data/reviews/en-en.json')\n",
    "d5 = pd.read_json('data/reviews/es-en.json')\n",
    "d6 = pd.read_json('data/reviews/fr-en.json')\n",
    "d7 = pd.read_json('data/reviews/it-en.json')\n",
    "d8 = pd.read_json('data/reviews/ja-en.json')\n",
    "d9 = pd.read_json('data/reviews/nl-en.json')\n",
    "d10 = pd.read_json('data/reviews/pl-en.json')\n",
    "d11 = pd.read_json('data/reviews/pt-en.json')\n",
    "d12 = pd.read_json('data/reviews/ru-en.json')\n",
    "d13 = pd.read_json('data/reviews/sv-en.json')\n",
    "d14 = pd.read_json('data/reviews/tr-en.json')"
   ]
  },
  {
   "cell_type": "code",
   "execution_count": 11,
   "metadata": {},
   "outputs": [],
   "source": [
    "all_trad = pd.concat([d1,d2,d3,d4,d5,d6,d7,d8,d9,d10,d11,d12,d13,d14])\n",
    "all_trad = all_trad.reset_index()\n",
    "all_trad.to_json('data/pred/all_trad.json')"
   ]
  },
  {
   "cell_type": "code",
   "execution_count": 70,
   "metadata": {},
   "outputs": [],
   "source": [
    "italia = all_trad[all_trad['hometown'] == 'Italia'][500:900].to_json('data/pred/400_italia.json')\n",
    "francia = all_trad[all_trad['hometown'] == 'Francia'][500:900].to_json('data/pred/400_francia.json')\n",
    "germania = all_trad[all_trad['hometown'] == 'Germania'][500:900].to_json('data/pred/400_germania.json')\n",
    "spagna = all_trad[all_trad['hometown'] == 'Spagna'][500:900].to_json('data/pred/400_spagna.json')\n",
    "statiuniti = all_trad[all_trad['hometown'] == 'Stati Uniti'][100:500].to_json('data/pred/400_statiuniti.json')\n",
    "regnounito = all_trad[all_trad['hometown'] == 'Regno Unito'][100:500].to_json('data/pred/400_regnounito.json')\n",
    "belgio = all_trad[all_trad['hometown'] == 'Belgio'][10:410].to_json('data/pred/400_belgio.json')\n",
    "paesibassi = all_trad[all_trad['hometown'] == 'Paesi Bassi'][100:500].to_json('data/pred/400_paesibassi.json')\n",
    "svizzera = all_trad[all_trad['hometown'] == 'Svizzera'][100:500].to_json('data/pred/400_svizzera.json')\n",
    "argentina = all_trad[all_trad['hometown'] == 'Argentina'][10:410].to_json('data/pred/400_argentina.json')"
   ]
  },
  {
   "cell_type": "code",
   "execution_count": 74,
   "metadata": {},
   "outputs": [],
   "source": [
    "italia = pd.read_json('data/pred/400_italia.json')\n",
    "francia = pd.read_json('data/pred/400_francia.json')\n",
    "germania = pd.read_json('data/pred/400_germania.json')\n",
    "spagna = pd.read_json('data/pred/400_spagna.json')\n",
    "statiuniti = pd.read_json('data/pred/400_statiuniti.json')\n",
    "regnounito = pd.read_json('data/pred/400_regnounito.json')\n",
    "belgio = pd.read_json('data/pred/400_belgio.json')\n",
    "paesibassi = pd.read_json('data/pred/400_paesibassi.json')\n",
    "svizzera = pd.read_json('data/pred/400_svizzera.json')\n",
    "argentina = pd.read_json('data/pred/400_argentina.json')"
   ]
  },
  {
   "cell_type": "code",
   "execution_count": 75,
   "metadata": {},
   "outputs": [],
   "source": [
    "tot = pd.concat([italia,francia,germania,spagna,statiuniti,regnounito,belgio,paesibassi,svizzera,argentina])"
   ]
  },
  {
   "cell_type": "code",
   "execution_count": 78,
   "metadata": {},
   "outputs": [
    {
     "data": {
      "text/html": [
       "<div>\n",
       "<style scoped>\n",
       "    .dataframe tbody tr th:only-of-type {\n",
       "        vertical-align: middle;\n",
       "    }\n",
       "\n",
       "    .dataframe tbody tr th {\n",
       "        vertical-align: top;\n",
       "    }\n",
       "\n",
       "    .dataframe thead th {\n",
       "        text-align: right;\n",
       "    }\n",
       "</style>\n",
       "<table border=\"1\" class=\"dataframe\">\n",
       "  <thead>\n",
       "    <tr style=\"text-align: right;\">\n",
       "      <th></th>\n",
       "      <th>level_0</th>\n",
       "      <th>index</th>\n",
       "      <th>lang</th>\n",
       "      <th>review</th>\n",
       "      <th>review_en</th>\n",
       "      <th>hometown</th>\n",
       "      <th>rating</th>\n",
       "    </tr>\n",
       "  </thead>\n",
       "  <tbody>\n",
       "    <tr>\n",
       "      <th>11191</th>\n",
       "      <td>185</td>\n",
       "      <td>320</td>\n",
       "      <td>it</td>\n",
       "      <td>Dormito una sola notte ma ci ritorneremo sicur...</td>\n",
       "      <td>Stayed only one night but we will definitely r...</td>\n",
       "      <td>Italia</td>\n",
       "      <td>4</td>\n",
       "    </tr>\n",
       "    <tr>\n",
       "      <th>11192</th>\n",
       "      <td>186</td>\n",
       "      <td>322</td>\n",
       "      <td>it</td>\n",
       "      <td>Location comoda con posteggio privato a due pa...</td>\n",
       "      <td>Convenient location with private parking a sto...</td>\n",
       "      <td>Italia</td>\n",
       "      <td>4</td>\n",
       "    </tr>\n",
       "    <tr>\n",
       "      <th>11193</th>\n",
       "      <td>187</td>\n",
       "      <td>323</td>\n",
       "      <td>it</td>\n",
       "      <td>Comodo per chi é di passaggio, buono il parghe...</td>\n",
       "      <td>Convenient for those passing through, good fre...</td>\n",
       "      <td>Italia</td>\n",
       "      <td>3</td>\n",
       "    </tr>\n",
       "    <tr>\n",
       "      <th>11194</th>\n",
       "      <td>188</td>\n",
       "      <td>325</td>\n",
       "      <td>it</td>\n",
       "      <td>Hotel rumoroso, sporco e cucina disgustosa. No...</td>\n",
       "      <td>Noisy, dirty hotel and disgusting cuisine. I d...</td>\n",
       "      <td>Italia</td>\n",
       "      <td>1</td>\n",
       "    </tr>\n",
       "    <tr>\n",
       "      <th>11195</th>\n",
       "      <td>189</td>\n",
       "      <td>326</td>\n",
       "      <td>it</td>\n",
       "      <td>Fara, la titolare, sin da subito si è fatta in...</td>\n",
       "      <td>Fara, the owner, immediately went out of her w...</td>\n",
       "      <td>Italia</td>\n",
       "      <td>5</td>\n",
       "    </tr>\n",
       "    <tr>\n",
       "      <th>...</th>\n",
       "      <td>...</td>\n",
       "      <td>...</td>\n",
       "      <td>...</td>\n",
       "      <td>...</td>\n",
       "      <td>...</td>\n",
       "      <td>...</td>\n",
       "      <td>...</td>\n",
       "    </tr>\n",
       "    <tr>\n",
       "      <th>7697</th>\n",
       "      <td>1405</td>\n",
       "      <td>40449</td>\n",
       "      <td>es</td>\n",
       "      <td>Excelente!! Muy buena ubicación, desayuno cont...</td>\n",
       "      <td>Excellent!! Very good location, continental an...</td>\n",
       "      <td>Argentina</td>\n",
       "      <td>5</td>\n",
       "    </tr>\n",
       "    <tr>\n",
       "      <th>7702</th>\n",
       "      <td>1410</td>\n",
       "      <td>40540</td>\n",
       "      <td>es</td>\n",
       "      <td>el lugar en general está decorado con muy buen...</td>\n",
       "      <td>the place in general is decorated with very go...</td>\n",
       "      <td>Argentina</td>\n",
       "      <td>4</td>\n",
       "    </tr>\n",
       "    <tr>\n",
       "      <th>7703</th>\n",
       "      <td>1411</td>\n",
       "      <td>40584</td>\n",
       "      <td>es</td>\n",
       "      <td>Un lugar fantástico, excelentemente ubicado, a...</td>\n",
       "      <td>A fantastic place, excellently located, half a...</td>\n",
       "      <td>Argentina</td>\n",
       "      <td>5</td>\n",
       "    </tr>\n",
       "    <tr>\n",
       "      <th>7707</th>\n",
       "      <td>1415</td>\n",
       "      <td>40747</td>\n",
       "      <td>es</td>\n",
       "      <td>Me gusto mucho. Excelente ubicación. Tan limpi...</td>\n",
       "      <td>I loved it. Excellent location. So clean and n...</td>\n",
       "      <td>Argentina</td>\n",
       "      <td>4</td>\n",
       "    </tr>\n",
       "    <tr>\n",
       "      <th>7708</th>\n",
       "      <td>1416</td>\n",
       "      <td>40751</td>\n",
       "      <td>es</td>\n",
       "      <td>El hotel es comodo..muy bien ubicado para cono...</td>\n",
       "      <td>The hotel is comfortable..very well located to...</td>\n",
       "      <td>Argentina</td>\n",
       "      <td>4</td>\n",
       "    </tr>\n",
       "  </tbody>\n",
       "</table>\n",
       "<p>4000 rows × 7 columns</p>\n",
       "</div>"
      ],
      "text/plain": [
       "       level_0  index lang                                             review  \\\n",
       "11191      185    320   it  Dormito una sola notte ma ci ritorneremo sicur...   \n",
       "11192      186    322   it  Location comoda con posteggio privato a due pa...   \n",
       "11193      187    323   it  Comodo per chi é di passaggio, buono il parghe...   \n",
       "11194      188    325   it  Hotel rumoroso, sporco e cucina disgustosa. No...   \n",
       "11195      189    326   it  Fara, la titolare, sin da subito si è fatta in...   \n",
       "...        ...    ...  ...                                                ...   \n",
       "7697      1405  40449   es  Excelente!! Muy buena ubicación, desayuno cont...   \n",
       "7702      1410  40540   es  el lugar en general está decorado con muy buen...   \n",
       "7703      1411  40584   es  Un lugar fantástico, excelentemente ubicado, a...   \n",
       "7707      1415  40747   es  Me gusto mucho. Excelente ubicación. Tan limpi...   \n",
       "7708      1416  40751   es  El hotel es comodo..muy bien ubicado para cono...   \n",
       "\n",
       "                                               review_en   hometown  rating  \n",
       "11191  Stayed only one night but we will definitely r...     Italia       4  \n",
       "11192  Convenient location with private parking a sto...     Italia       4  \n",
       "11193  Convenient for those passing through, good fre...     Italia       3  \n",
       "11194  Noisy, dirty hotel and disgusting cuisine. I d...     Italia       1  \n",
       "11195  Fara, the owner, immediately went out of her w...     Italia       5  \n",
       "...                                                  ...        ...     ...  \n",
       "7697   Excellent!! Very good location, continental an...  Argentina       5  \n",
       "7702   the place in general is decorated with very go...  Argentina       4  \n",
       "7703   A fantastic place, excellently located, half a...  Argentina       5  \n",
       "7707   I loved it. Excellent location. So clean and n...  Argentina       4  \n",
       "7708   The hotel is comfortable..very well located to...  Argentina       4  \n",
       "\n",
       "[4000 rows x 7 columns]"
      ]
     },
     "execution_count": 78,
     "metadata": {},
     "output_type": "execute_result"
    }
   ],
   "source": [
    "tot"
   ]
  },
  {
   "cell_type": "code",
   "execution_count": 77,
   "metadata": {},
   "outputs": [],
   "source": [
    "tot.to_json('data/pred/reviews_for_predict.json')"
   ]
  },
  {
   "cell_type": "code",
   "execution_count": null,
   "metadata": {},
   "outputs": [],
   "source": []
  }
 ],
 "metadata": {
  "kernelspec": {
   "display_name": "Python 3",
   "language": "python",
   "name": "python3"
  },
  "language_info": {
   "codemirror_mode": {
    "name": "ipython",
    "version": 3
   },
   "file_extension": ".py",
   "mimetype": "text/x-python",
   "name": "python",
   "nbconvert_exporter": "python",
   "pygments_lexer": "ipython3",
   "version": "3.8.3"
  }
 },
 "nbformat": 4,
 "nbformat_minor": 4
}
