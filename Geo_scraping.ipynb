{
 "cells": [
  {
   "cell_type": "code",
   "execution_count": 1,
   "metadata": {},
   "outputs": [],
   "source": [
    "import pandas as pd\n",
    "import numpy as np\n",
    "import selenium\n",
    "from selenium import webdriver\n",
    "from selenium.webdriver.common.keys import Keys\n",
    "from selenium.webdriver.remote.webelement import WebElement\n",
    "from selenium.webdriver.chrome.options import Options\n",
    "from selenium.common.exceptions import InvalidSessionIdException\n",
    "import string\n",
    "import json\n",
    "import time\n",
    "import re\n",
    "\n",
    "options = Options()\n",
    "options.add_argument('headless')\n",
    "options.add_argument('--lang=it')\n",
    "\n",
    "driver = webdriver.Chrome(options=options)\n",
    "\n",
    "df = pd.read_json (\"data/reviews.json\",lines=True)\n",
    "#n = df.shape[0]\n",
    "#print(n)"
   ]
  },
  {
   "cell_type": "code",
   "execution_count": 6,
   "metadata": {},
   "outputs": [
    {
     "data": {
      "text/plain": [
       "126"
      ]
     },
     "execution_count": 6,
     "metadata": {},
     "output_type": "execute_result"
    }
   ],
   "source": [
    "df.columns"
   ]
  },
  {
   "cell_type": "code",
   "execution_count": 3,
   "metadata": {},
   "outputs": [],
   "source": [
    "n = df.shape[0]\n",
    "geonames_id = np.zeros(n)\n",
    "df['geonames_id'] = geonames_id\n"
   ]
  },
  {
   "cell_type": "code",
   "execution_count": 4,
   "metadata": {},
   "outputs": [
    {
     "data": {
      "text/plain": [
       "Index(['Name', 'City', 'Rating', 'Review', 'Hometown', 'Date_of_stay',\n",
       "       'Trip_type', 'geonames_id'],\n",
       "      dtype='object')"
      ]
     },
     "execution_count": 4,
     "metadata": {},
     "output_type": "execute_result"
    }
   ],
   "source": [
    "df.columns"
   ]
  },
  {
   "cell_type": "code",
   "execution_count": 5,
   "metadata": {
    "scrolled": true
   },
   "outputs": [],
   "source": [
    "countries = df.Hometown.unique()\n",
    "countries\n",
    "\n",
    "geonames = []\n",
    "\n",
    "\n",
    "for i in range(len(countries)):\n",
    "    splittato = countries[i].split(' ')\n",
    "\n",
    "    #for j in range(len(splittato)):\n",
    "    if(len(splittato)==2):\n",
    "        \n",
    "        splittato.insert(1, '+')\n",
    "        #print(splittato)\n",
    "        \n",
    "    elif(len(splittato)==3):\n",
    "        splittato.insert(1, '+')\n",
    "        splittato.insert(3, '+')\n",
    "        #print(splittato)\n",
    "    \n",
    "    api_geo = \"\".join(splittato)\n",
    "    #print(api_geo)\n",
    "    driver.get(\"https://www.geonames.org/search.html?q=\" + api_geo)\n",
    "    record = driver.find_element_by_xpath(\"//tbody/tr[3]/td[2]/a[1]\").click() #click del primo link che trovo\n",
    "    time.sleep(2)\n",
    "    geonames_id = driver.find_element_by_xpath(\"//div[@data-geonameid]/div[2]/a\").text #numero di geoname_id\n",
    "    #print(api_geo + ':' + geonameid)\n",
    "    new_geo = api_geo.replace('+',' ')\n",
    "    #print(geonames_id)\n",
    "    geonames.append(geonames_id)\n",
    "    \n",
    "    data = {'country': list(countries), 'geonames_id': geonames}\n",
    "dataff = pd.DataFrame(data)\n",
    "dataff.to_json('data/country_geonames_id.json')\n",
    "\n",
    "    \n",
    "    \n",
    "driver.close()"
   ]
  },
  {
   "cell_type": "code",
   "execution_count": 8,
   "metadata": {},
   "outputs": [],
   "source": [
    "df = pd.read_json (\"data/country_geonames_id.json\")"
   ]
  },
  {
   "cell_type": "code",
   "execution_count": 9,
   "metadata": {},
   "outputs": [
    {
     "data": {
      "text/html": [
       "<div>\n",
       "<style scoped>\n",
       "    .dataframe tbody tr th:only-of-type {\n",
       "        vertical-align: middle;\n",
       "    }\n",
       "\n",
       "    .dataframe tbody tr th {\n",
       "        vertical-align: top;\n",
       "    }\n",
       "\n",
       "    .dataframe thead th {\n",
       "        text-align: right;\n",
       "    }\n",
       "</style>\n",
       "<table border=\"1\" class=\"dataframe\">\n",
       "  <thead>\n",
       "    <tr style=\"text-align: right;\">\n",
       "      <th></th>\n",
       "      <th>country</th>\n",
       "      <th>geonames_id</th>\n",
       "    </tr>\n",
       "  </thead>\n",
       "  <tbody>\n",
       "    <tr>\n",
       "      <th>0</th>\n",
       "      <td>Regno Unito</td>\n",
       "      <td>2635167</td>\n",
       "    </tr>\n",
       "    <tr>\n",
       "      <th>1</th>\n",
       "      <td>Italia</td>\n",
       "      <td>3175395</td>\n",
       "    </tr>\n",
       "    <tr>\n",
       "      <th>2</th>\n",
       "      <td>Spagna</td>\n",
       "      <td>2510769</td>\n",
       "    </tr>\n",
       "    <tr>\n",
       "      <th>3</th>\n",
       "      <td>Germania</td>\n",
       "      <td>2921044</td>\n",
       "    </tr>\n",
       "    <tr>\n",
       "      <th>4</th>\n",
       "      <td>Stati Uniti</td>\n",
       "      <td>6255150</td>\n",
       "    </tr>\n",
       "    <tr>\n",
       "      <th>...</th>\n",
       "      <td>...</td>\n",
       "      <td>...</td>\n",
       "    </tr>\n",
       "    <tr>\n",
       "      <th>121</th>\n",
       "      <td>Kosovo</td>\n",
       "      <td>831053</td>\n",
       "    </tr>\n",
       "    <tr>\n",
       "      <th>122</th>\n",
       "      <td>Palestina</td>\n",
       "      <td>6254930</td>\n",
       "    </tr>\n",
       "    <tr>\n",
       "      <th>123</th>\n",
       "      <td>Bahamas</td>\n",
       "      <td>3572887</td>\n",
       "    </tr>\n",
       "    <tr>\n",
       "      <th>124</th>\n",
       "      <td>Leicester</td>\n",
       "      <td>2644668</td>\n",
       "    </tr>\n",
       "    <tr>\n",
       "      <th>125</th>\n",
       "      <td>Azerbaigian</td>\n",
       "      <td>587116</td>\n",
       "    </tr>\n",
       "  </tbody>\n",
       "</table>\n",
       "<p>126 rows × 2 columns</p>\n",
       "</div>"
      ],
      "text/plain": [
       "         country  geonames_id\n",
       "0    Regno Unito      2635167\n",
       "1         Italia      3175395\n",
       "2         Spagna      2510769\n",
       "3       Germania      2921044\n",
       "4    Stati Uniti      6255150\n",
       "..           ...          ...\n",
       "121       Kosovo       831053\n",
       "122    Palestina      6254930\n",
       "123      Bahamas      3572887\n",
       "124    Leicester      2644668\n",
       "125  Azerbaigian       587116\n",
       "\n",
       "[126 rows x 2 columns]"
      ]
     },
     "execution_count": 9,
     "metadata": {},
     "output_type": "execute_result"
    }
   ],
   "source": [
    "df"
   ]
  },
  {
   "cell_type": "code",
   "execution_count": null,
   "metadata": {},
   "outputs": [],
   "source": []
  }
 ],
 "metadata": {
  "kernelspec": {
   "display_name": "Python 3",
   "language": "python",
   "name": "python3"
  },
  "language_info": {
   "codemirror_mode": {
    "name": "ipython",
    "version": 3
   },
   "file_extension": ".py",
   "mimetype": "text/x-python",
   "name": "python",
   "nbconvert_exporter": "python",
   "pygments_lexer": "ipython3",
   "version": "3.8.3"
  }
 },
 "nbformat": 4,
 "nbformat_minor": 4
}
